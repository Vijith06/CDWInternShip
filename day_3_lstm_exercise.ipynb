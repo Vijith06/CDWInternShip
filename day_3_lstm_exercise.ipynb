{
  "nbformat": 4,
  "nbformat_minor": 0,
  "metadata": {
    "colab": {
      "provenance": [],
      "authorship_tag": "ABX9TyMz5drKVdy/r6tBpkKB46u5",
      "include_colab_link": true
    },
    "kernelspec": {
      "name": "python3",
      "display_name": "Python 3"
    },
    "language_info": {
      "name": "python"
    }
  },
  "cells": [
    {
      "cell_type": "markdown",
      "metadata": {
        "id": "view-in-github",
        "colab_type": "text"
      },
      "source": [
        "<a href=\"https://colab.research.google.com/github/Vijith06/CDWInternShip/blob/day3/day_3_lstm_exercise.ipynb\" target=\"_parent\"><img src=\"https://colab.research.google.com/assets/colab-badge.svg\" alt=\"Open In Colab\"/></a>"
      ]
    },
    {
      "cell_type": "code",
      "execution_count": 6,
      "metadata": {
        "id": "Y4TXULV8jZb2",
        "colab": {
          "base_uri": "https://localhost:8080/"
        },
        "outputId": "49bc3e53-b764-45b8-c764-22954ea1d4c9"
      },
      "outputs": [
        {
          "output_type": "stream",
          "name": "stdout",
          "text": [
            "Index(['message', 'label_ham', 'label_spam'], dtype='object')\n",
            "Epoch 1/5\n"
          ]
        },
        {
          "output_type": "stream",
          "name": "stderr",
          "text": [
            "/usr/local/lib/python3.11/dist-packages/keras/src/layers/core/embedding.py:90: UserWarning: Argument `input_length` is deprecated. Just remove it.\n",
            "  warnings.warn(\n"
          ]
        },
        {
          "output_type": "stream",
          "name": "stdout",
          "text": [
            "\u001b[1m38/38\u001b[0m \u001b[32m━━━━━━━━━━━━━━━━━━━━\u001b[0m\u001b[37m\u001b[0m \u001b[1m7s\u001b[0m 74ms/step - accuracy: 0.4995 - loss: 0.6943 - val_accuracy: 0.5233 - val_loss: 0.6930\n",
            "Epoch 2/5\n",
            "\u001b[1m38/38\u001b[0m \u001b[32m━━━━━━━━━━━━━━━━━━━━\u001b[0m\u001b[37m\u001b[0m \u001b[1m2s\u001b[0m 64ms/step - accuracy: 0.5090 - loss: 0.6932 - val_accuracy: 0.4767 - val_loss: 0.6940\n",
            "Epoch 3/5\n",
            "\u001b[1m38/38\u001b[0m \u001b[32m━━━━━━━━━━━━━━━━━━━━\u001b[0m\u001b[37m\u001b[0m \u001b[1m3s\u001b[0m 64ms/step - accuracy: 0.5206 - loss: 0.6942 - val_accuracy: 0.4767 - val_loss: 0.6932\n",
            "Epoch 4/5\n",
            "\u001b[1m38/38\u001b[0m \u001b[32m━━━━━━━━━━━━━━━━━━━━\u001b[0m\u001b[37m\u001b[0m \u001b[1m3s\u001b[0m 76ms/step - accuracy: 0.5156 - loss: 0.6922 - val_accuracy: 0.4767 - val_loss: 0.6946\n",
            "Epoch 5/5\n",
            "\u001b[1m38/38\u001b[0m \u001b[32m━━━━━━━━━━━━━━━━━━━━\u001b[0m\u001b[37m\u001b[0m \u001b[1m4s\u001b[0m 98ms/step - accuracy: 0.4838 - loss: 0.6970 - val_accuracy: 0.4767 - val_loss: 0.6938\n",
            "\u001b[1m10/10\u001b[0m \u001b[32m━━━━━━━━━━━━━━━━━━━━\u001b[0m\u001b[37m\u001b[0m \u001b[1m0s\u001b[0m 15ms/step - accuracy: 0.4523 - loss: 0.6945\n",
            "Test Accuracy: 47.67%\n",
            "\u001b[1m1/1\u001b[0m \u001b[32m━━━━━━━━━━━━━━━━━━━━\u001b[0m\u001b[37m\u001b[0m \u001b[1m0s\u001b[0m 229ms/step\n",
            "The message 'Congratulations! You've won a $1000 Walmart gift card. Call now!' is classified as: Ham\n"
          ]
        }
      ],
      "source": [
        "import pandas as pd\n",
        "import numpy as np\n",
        "from sklearn.model_selection import train_test_split\n",
        "from sklearn.preprocessing import LabelEncoder\n",
        "from tensorflow.keras.preprocessing.text import Tokenizer\n",
        "from tensorflow.keras.preprocessing.sequence import pad_sequences\n",
        "from tensorflow.keras.models import Sequential\n",
        "from tensorflow.keras.layers import Embedding, LSTM, Dense, Dropout\n",
        "from sklearn.metrics import accuracy_score\n",
        "\n",
        "# Load dataset\n",
        "dataset_path = \"/content/Spam-Classification.csv\"\n",
        "data = pd.read_csv(dataset_path)\n",
        "\n",
        "# Rename the columns for consistency\n",
        "data.rename(columns={\"CLASS\": \"label\", \"SMS\": \"message\"}, inplace=True)\n",
        "\n",
        "# One-hot encode labels (spam = 1, ham = 0)\n",
        "data = pd.get_dummies(data, columns=[\"label\"], prefix=[\"label\"])\n",
        "\n",
        "# Check the columns after encoding\n",
        "print(data.columns)\n",
        "\n",
        "# Preprocess the messages\n",
        "messages = data['message']\n",
        "labels = data[['label_ham', 'label_spam']]  # Check the correct names after one-hot encoding\n",
        "\n",
        "# Split the data into training and testing sets\n",
        "X_train, X_test, y_train, y_test = train_test_split(messages, labels, test_size=0.2, random_state=42)\n",
        "\n",
        "# Tokenize the text data\n",
        "tokenizer = Tokenizer(num_words=10000, oov_token=\"<OOV>\")\n",
        "tokenizer.fit_on_texts(X_train)\n",
        "\n",
        "X_train_sequences = tokenizer.texts_to_sequences(X_train)\n",
        "X_test_sequences = tokenizer.texts_to_sequences(X_test)\n",
        "\n",
        "# Pad the sequences to the same length\n",
        "max_length = 100\n",
        "X_train_padded = pad_sequences(X_train_sequences, maxlen=max_length, padding=\"post\", truncating=\"post\")\n",
        "X_test_padded = pad_sequences(X_test_sequences, maxlen=max_length, padding=\"post\", truncating=\"post\")\n",
        "\n",
        "# Build the LSTM model\n",
        "model = Sequential([\n",
        "    Embedding(input_dim=10000, output_dim=64, input_length=max_length),\n",
        "    LSTM(64, return_sequences=False),\n",
        "    Dropout(0.5),\n",
        "    Dense(32, activation='relu'),\n",
        "    Dropout(0.5),\n",
        "    Dense(2, activation='softmax')  # Softmax for multi-class classification (ham or spam)\n",
        "])\n",
        "\n",
        "# Compile the model\n",
        "model.compile(optimizer='adam', loss='categorical_crossentropy', metrics=['accuracy'])\n",
        "\n",
        "# Train the model\n",
        "model.fit(X_train_padded, y_train, epochs=5, batch_size=32, validation_data=(X_test_padded, y_test))\n",
        "\n",
        "# Evaluate the model\n",
        "loss, accuracy = model.evaluate(X_test_padded, y_test)\n",
        "print(f\"Test Accuracy: {accuracy * 100:.2f}%\")\n",
        "\n",
        "# Function to predict spam or ham\n",
        "def predict_message(message):\n",
        "    sequence = tokenizer.texts_to_sequences([message])\n",
        "    padded_sequence = pad_sequences(sequence, maxlen=max_length, padding=\"post\", truncating=\"post\")\n",
        "    prediction = model.predict(padded_sequence)[0]\n",
        "    return \"Spam\" if prediction[1] > prediction[0] else \"Ham\"\n",
        "\n",
        "# Test the prediction function with a sample message\n",
        "sample_message = \"Congratulations! You've won a $1000 Walmart gift card. Call now!\"\n",
        "result = predict_message(sample_message)\n",
        "print(f\"The message '{sample_message}' is classified as: {result}\")\n"
      ]
    }
  ]
}